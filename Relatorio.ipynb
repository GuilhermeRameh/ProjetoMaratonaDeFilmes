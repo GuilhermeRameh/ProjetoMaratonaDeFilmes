{
 "cells": [
  {
   "attachments": {},
   "cell_type": "markdown",
   "metadata": {},
   "source": [
    "# Relatório Supercomputação:\n",
    "## Projeto - Maratona de filmes\n",
    "\n",
    "Feito por Guilherme Rameh"
   ]
  },
  {
   "cell_type": "markdown",
   "metadata": {},
   "source": []
  }
 ],
 "metadata": {
  "language_info": {
   "name": "python"
  },
  "orig_nbformat": 4
 },
 "nbformat": 4,
 "nbformat_minor": 2
}

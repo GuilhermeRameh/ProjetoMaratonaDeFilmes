{
 "cells": [
  {
   "attachments": {},
   "cell_type": "markdown",
   "metadata": {},
   "source": [
    "# Relatório Supercomputação:\n",
    "## Projeto - Maratona de filmes\n",
    "\n",
    "Feito por Guilherme Rameh"
   ]
  },
  {
   "attachments": {},
   "cell_type": "markdown",
   "metadata": {},
   "source": [
    "## Proposta do projeto:\n",
    "Você quer passar um final de semana assistindo ao máximo de filmes possível, mas há restrições quanto aos horários disponíveis e ao número de títulos que podem ser vistos em cada categoria (comédia, drama, ação, etc).\n",
    "\n",
    "Assim, propõem-se duas maneiras de encarar o problema: com a *heurística gulosa*, e com a *heurística + aleatoriedade*."
   ]
  },
  {
   "cell_type": "markdown",
   "metadata": {},
   "source": []
  }
 ],
 "metadata": {
  "language_info": {
   "name": "python"
  },
  "orig_nbformat": 4
 },
 "nbformat": 4,
 "nbformat_minor": 2
}
